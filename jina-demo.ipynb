{
 "cells": [
  {
   "cell_type": "markdown",
   "id": "7211e05a-861b-4e08-b4ee-83ea657d07ff",
   "metadata": {},
   "source": [
    "# JINA demo\n",
    "\n",
    "The notebook that demonstrate JINA, that is based on [docarray document](https://docarray.jina.ai/fundamentals/notebook-support/)."
   ]
  },
  {
   "cell_type": "code",
   "execution_count": 1,
   "id": "3a8715f4-dacf-42e6-87e3-f80298edcb81",
   "metadata": {},
   "outputs": [],
   "source": [
    "from docarray import Document\n",
    "\n",
    "\n",
    "d = Document(text=\"Hello\")"
   ]
  },
  {
   "cell_type": "code",
   "execution_count": 2,
   "id": "b159a3bf-d986-4561-92e1-2507756d5011",
   "metadata": {},
   "outputs": [
    {
     "data": {
      "text/html": [
       "<pre style=\"white-space:pre;overflow-x:auto;line-height:normal;font-family:Menlo,'DejaVu Sans Mono',consolas,'Courier New',monospace\">📄 <span style=\"font-weight: bold\">Document</span>: <span style=\"color: #008080; text-decoration-color: #008080\">753649d922d00659ff5801efa3f760ac</span>\n",
       "╭────────────────────────────────────────────────┬─────────────────────────────╮\n",
       "│<span style=\"font-weight: bold\"> Attribute                                      </span>│<span style=\"font-weight: bold\"> Value                       </span>│\n",
       "├────────────────────────────────────────────────┼─────────────────────────────┤\n",
       "│ text                                           │ Hello                       │\n",
       "╰────────────────────────────────────────────────┴─────────────────────────────╯\n",
       "</pre>\n"
      ],
      "text/plain": [
       "📄 \u001b[1mDocument\u001b[0m: \u001b[36m753649d922d00659ff5801efa3f760ac\u001b[0m\n",
       "╭────────────────────────────────────────────────┬─────────────────────────────╮\n",
       "│\u001b[1m \u001b[0m\u001b[1mAttribute                                     \u001b[0m\u001b[1m \u001b[0m│\u001b[1m \u001b[0m\u001b[1mValue                      \u001b[0m\u001b[1m \u001b[0m│\n",
       "├────────────────────────────────────────────────┼─────────────────────────────┤\n",
       "│ text                                           │ Hello                       │\n",
       "╰────────────────────────────────────────────────┴─────────────────────────────╯\n"
      ]
     },
     "metadata": {},
     "output_type": "display_data"
    }
   ],
   "source": [
    "d"
   ]
  },
  {
   "cell_type": "code",
   "execution_count": null,
   "id": "d9109e49-3ff4-4c72-b7c8-df8265a8dedf",
   "metadata": {},
   "outputs": [],
   "source": []
  }
 ],
 "metadata": {
  "kernelspec": {
   "display_name": "jina:Python",
   "language": "python",
   "name": "conda-env-jina-py"
  },
  "language_info": {
   "codemirror_mode": {
    "name": "ipython",
    "version": 3
   },
   "file_extension": ".py",
   "mimetype": "text/x-python",
   "name": "python",
   "nbconvert_exporter": "python",
   "pygments_lexer": "ipython3",
   "version": "3.9.13"
  }
 },
 "nbformat": 4,
 "nbformat_minor": 5
}
