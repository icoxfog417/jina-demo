{
 "cells": [
  {
   "cell_type": "markdown",
   "id": "49cb41f1",
   "metadata": {
    "pycharm": {
     "name": "#%% md\n"
    }
   },
   "source": [
    "<img src=\"https://github.com/jina-ai/discoart/blob/main/.github/banner.png?raw=true\" alt=\"Create Disco Diffusion artworks in one-line\">\n",
    "<p align=center>\n",
    "<a href=\"https://pypi.org/project/discoart/\"><img src=\"https://img.shields.io/pypi/v/discoart?style=flat-square&amp;label=Release\" alt=\"PyPI\"></a>\n",
    "<a href=\"https://slack.jina.ai\"><img src=\"https://img.shields.io/badge/Slack-3.1k-blueviolet?logo=slack&amp;logoColor=white&style=flat-square\"></a>\n",
    "<a href=\"https://colab.research.google.com/github/jina-ai/dalle-flow/blob/main/client.ipynb\"><img src=\"https://img.shields.io/badge/Open-in%20Colab-brightgreen?logo=google-colab&style=flat-square\" alt=\"Open in Google Colab\"/></a>\n",
    "</p>\n",
    "\n",
    "😎 **If you are already a DD user**: you are ready to go! There is no extra learning, DiscoArt respects the same parameter semantics as DD5.2. So just unleash your creativity! [Read more about DiscoArt vs. DD5.5](https://github.com/jina-ai/discoart/blob/main/FEATURES.md)\n",
    "\n",
    "You can always do `from discoart import cheatsheet; cheatsheet()` to check all new/modified parameters, DiscoArt specific parameters are highlighted in the cheatsheet. \n",
    "\n",
    "\n",
    "\n",
    "👶 **If you are a [DALL·E Flow](https://github.com/jina-ai/dalle-flow/) or new user**: you may want to take step by step, as Disco Diffusion works in a very different way than DALL·E. It is much more advanced and powerful: e.g. Disco Diffusion can take weighted & structured text prompts; it can initialize from a image with controlled noise; and there are way more parameters one can tweak. Impatient prompt like `\"armchair avocado\"` will give you nothing but confusion and frustration. I highly recommend you to check out the following resources before trying your own prompt:\n",
    "- [Zippy's Disco Diffusion Cheatsheet v0.3](https://docs.google.com/document/d/1l8s7uS2dGqjztYSjPpzlmXLjl5PM3IGkRWI3IiCuK7g/mobilebasic)\n",
    "- [EZ Charts - Diffusion Parameter Studies](https://docs.google.com/document/d/1ORymHm0Te18qKiHnhcdgGp-WSt8ZkLZvow3raiu2DVU/edit#)\n",
    "- [Disco Diffusion 70+ Artist Studies](https://weirdwonderfulai.art/resources/disco-diffusion-70-plus-artist-studies/)\n",
    "- [A Traveler’s Guide to the Latent Space](https://sweet-hall-e72.notion.site/A-Traveler-s-Guide-to-the-Latent-Space-85efba7e5e6a40e5bd3cae980f30235f#e122e748b86e4fc0ad6a7a50e46d6e10)\n",
    "- [Disco Diffusion Illustrated Settings](https://coar.notion.site/Disco-Diffusion-Illustrated-Settings-cd4badf06e08440c99d8a93d4cd39f51)\n",
    "- [Coar’s Disco Diffusion Guide](https://coar.notion.site/coar/Coar-s-Disco-Diffusion-Guide-3d86d652c15d4ca986325e808bde06aa#8a3c6e9e4b6847afa56106eacb6f1f79)\n",
    "\n",
    "# Install"
   ]
  },
  {
   "cell_type": "code",
   "execution_count": 1,
   "id": "bed38134",
   "metadata": {
    "collapsed": false,
    "jupyter": {
     "outputs_hidden": false
    },
    "pycharm": {
     "name": "#%%\n"
    }
   },
   "outputs": [
    {
     "name": "stdout",
     "output_type": "stream",
     "text": [
      "Requirement already satisfied: discoart in /home/studio-lab-user/.conda/envs/jina/lib/python3.9/site-packages (0.4.1)\n",
      "Requirement already satisfied: numpy in /home/studio-lab-user/.conda/envs/jina/lib/python3.9/site-packages (from discoart) (1.23.1)\n",
      "Requirement already satisfied: ftfy in /home/studio-lab-user/.conda/envs/jina/lib/python3.9/site-packages (from discoart) (6.1.1)\n",
      "Requirement already satisfied: open-clip-torch in /home/studio-lab-user/.conda/envs/jina/lib/python3.9/site-packages (from discoart) (1.3.0)\n",
      "Requirement already satisfied: jina in /home/studio-lab-user/.conda/envs/jina/lib/python3.9/site-packages (from discoart) (3.3.6)\n",
      "Requirement already satisfied: docarray[common]>=0.13.30 in /home/studio-lab-user/.conda/envs/jina/lib/python3.9/site-packages (from discoart) (0.13.30)\n",
      "Requirement already satisfied: pyspellchecker in /home/studio-lab-user/.conda/envs/jina/lib/python3.9/site-packages (from discoart) (0.6.3)\n",
      "Requirement already satisfied: pyyaml in /home/studio-lab-user/.conda/envs/jina/lib/python3.9/site-packages (from discoart) (6.0)\n",
      "Requirement already satisfied: lpips in /home/studio-lab-user/.conda/envs/jina/lib/python3.9/site-packages (from discoart) (0.1.4)\n",
      "Requirement already satisfied: rich>=12.0.0 in /home/studio-lab-user/.conda/envs/jina/lib/python3.9/site-packages (from docarray[common]>=0.13.30->discoart) (12.5.1)\n",
      "Requirement already satisfied: matplotlib in /home/studio-lab-user/.conda/envs/jina/lib/python3.9/site-packages (from docarray[common]>=0.13.30->discoart) (3.5.2)\n",
      "Requirement already satisfied: fastapi in /home/studio-lab-user/.conda/envs/jina/lib/python3.9/site-packages (from docarray[common]>=0.13.30->discoart) (0.78.0)\n",
      "Requirement already satisfied: protobuf<=3.20.1,>=3.13.0 in /home/studio-lab-user/.conda/envs/jina/lib/python3.9/site-packages (from docarray[common]>=0.13.30->discoart) (3.20.1)\n",
      "Requirement already satisfied: requests in /home/studio-lab-user/.conda/envs/jina/lib/python3.9/site-packages (from docarray[common]>=0.13.30->discoart) (2.28.1)\n",
      "Requirement already satisfied: uvicorn in /home/studio-lab-user/.conda/envs/jina/lib/python3.9/site-packages (from docarray[common]>=0.13.30->discoart) (0.18.2)\n",
      "Requirement already satisfied: Pillow in /home/studio-lab-user/.conda/envs/jina/lib/python3.9/site-packages (from docarray[common]>=0.13.30->discoart) (9.2.0)\n",
      "Requirement already satisfied: lz4 in /home/studio-lab-user/.conda/envs/jina/lib/python3.9/site-packages (from docarray[common]>=0.13.30->discoart) (3.1.1)\n",
      "Requirement already satisfied: wcwidth>=0.2.5 in /home/studio-lab-user/.conda/envs/jina/lib/python3.9/site-packages (from ftfy->discoart) (0.2.5)\n",
      "Requirement already satisfied: filelock in /home/studio-lab-user/.conda/envs/jina/lib/python3.9/site-packages (from jina->discoart) (3.7.1)\n",
      "Requirement already satisfied: python-multipart in /home/studio-lab-user/.conda/envs/jina/lib/python3.9/site-packages (from jina->discoart) (0.0.5)\n",
      "Requirement already satisfied: docker in /home/studio-lab-user/.conda/envs/jina/lib/python3.9/site-packages (from jina->discoart) (5.0.3)\n",
      "Requirement already satisfied: pathspec in /home/studio-lab-user/.conda/envs/jina/lib/python3.9/site-packages (from jina->discoart) (0.9.0)\n",
      "Requirement already satisfied: aiohttp in /home/studio-lab-user/.conda/envs/jina/lib/python3.9/site-packages (from jina->discoart) (3.8.1)\n",
      "Requirement already satisfied: uvloop in /home/studio-lab-user/.conda/envs/jina/lib/python3.9/site-packages (from jina->discoart) (0.16.0)\n",
      "Requirement already satisfied: grpcio-reflection>=1.33.1 in /home/studio-lab-user/.conda/envs/jina/lib/python3.9/site-packages (from jina->discoart) (1.46.3)\n",
      "Requirement already satisfied: websockets in /home/studio-lab-user/.conda/envs/jina/lib/python3.9/site-packages (from jina->discoart) (10.3)\n",
      "Requirement already satisfied: aiofiles in /home/studio-lab-user/.conda/envs/jina/lib/python3.9/site-packages (from jina->discoart) (0.8.0)\n",
      "Requirement already satisfied: cryptography in /home/studio-lab-user/.conda/envs/jina/lib/python3.9/site-packages (from jina->discoart) (37.0.4)\n",
      "Requirement already satisfied: packaging>=20.0 in /home/studio-lab-user/.conda/envs/jina/lib/python3.9/site-packages (from jina->discoart) (21.3)\n",
      "Requirement already satisfied: grpcio>=1.33.1 in /home/studio-lab-user/.conda/envs/jina/lib/python3.9/site-packages (from jina->discoart) (1.46.3)\n",
      "Requirement already satisfied: pydantic in /home/studio-lab-user/.conda/envs/jina/lib/python3.9/site-packages (from jina->discoart) (1.9.1)\n",
      "Requirement already satisfied: aiostream in /home/studio-lab-user/.conda/envs/jina/lib/python3.9/site-packages (from jina->discoart) (0.4.4)\n",
      "Requirement already satisfied: prometheus-client in /home/studio-lab-user/.conda/envs/jina/lib/python3.9/site-packages (from jina->discoart) (0.14.1)\n",
      "Requirement already satisfied: torch>=0.4.0 in /home/studio-lab-user/.conda/envs/jina/lib/python3.9/site-packages (from lpips->discoart) (1.12.0)\n",
      "Requirement already satisfied: scipy>=1.0.1 in /home/studio-lab-user/.conda/envs/jina/lib/python3.9/site-packages (from lpips->discoart) (1.8.1)\n",
      "Requirement already satisfied: torchvision>=0.2.1 in /home/studio-lab-user/.conda/envs/jina/lib/python3.9/site-packages (from lpips->discoart) (0.13.0)\n",
      "Requirement already satisfied: tqdm>=4.28.1 in /home/studio-lab-user/.conda/envs/jina/lib/python3.9/site-packages (from lpips->discoart) (4.64.0)\n",
      "Requirement already satisfied: regex in /home/studio-lab-user/.conda/envs/jina/lib/python3.9/site-packages (from open-clip-torch->discoart) (2022.7.9)\n",
      "Requirement already satisfied: six>=1.5.2 in /home/studio-lab-user/.conda/envs/jina/lib/python3.9/site-packages (from grpcio>=1.33.1->jina->discoart) (1.16.0)\n",
      "Requirement already satisfied: pyparsing!=3.0.5,>=2.0.2 in /home/studio-lab-user/.conda/envs/jina/lib/python3.9/site-packages (from packaging>=20.0->jina->discoart) (3.0.9)\n",
      "Requirement already satisfied: commonmark<0.10.0,>=0.9.0 in /home/studio-lab-user/.conda/envs/jina/lib/python3.9/site-packages (from rich>=12.0.0->docarray[common]>=0.13.30->discoart) (0.9.1)\n",
      "Requirement already satisfied: pygments<3.0.0,>=2.6.0 in /home/studio-lab-user/.conda/envs/jina/lib/python3.9/site-packages (from rich>=12.0.0->docarray[common]>=0.13.30->discoart) (2.12.0)\n",
      "Requirement already satisfied: typing-extensions in /home/studio-lab-user/.conda/envs/jina/lib/python3.9/site-packages (from torch>=0.4.0->lpips->discoart) (4.3.0)\n",
      "Requirement already satisfied: charset-normalizer<3.0,>=2.0 in /home/studio-lab-user/.conda/envs/jina/lib/python3.9/site-packages (from aiohttp->jina->discoart) (2.1.0)\n",
      "Requirement already satisfied: async-timeout<5.0,>=4.0.0a3 in /home/studio-lab-user/.conda/envs/jina/lib/python3.9/site-packages (from aiohttp->jina->discoart) (4.0.2)\n",
      "Requirement already satisfied: yarl<2.0,>=1.0 in /home/studio-lab-user/.conda/envs/jina/lib/python3.9/site-packages (from aiohttp->jina->discoart) (1.7.2)\n",
      "Requirement already satisfied: multidict<7.0,>=4.5 in /home/studio-lab-user/.conda/envs/jina/lib/python3.9/site-packages (from aiohttp->jina->discoart) (6.0.2)\n",
      "Requirement already satisfied: frozenlist>=1.1.1 in /home/studio-lab-user/.conda/envs/jina/lib/python3.9/site-packages (from aiohttp->jina->discoart) (1.3.0)\n",
      "Requirement already satisfied: aiosignal>=1.1.2 in /home/studio-lab-user/.conda/envs/jina/lib/python3.9/site-packages (from aiohttp->jina->discoart) (1.2.0)\n",
      "Requirement already satisfied: attrs>=17.3.0 in /home/studio-lab-user/.conda/envs/jina/lib/python3.9/site-packages (from aiohttp->jina->discoart) (21.4.0)\n",
      "Requirement already satisfied: cffi>=1.12 in /home/studio-lab-user/.conda/envs/jina/lib/python3.9/site-packages (from cryptography->jina->discoart) (1.15.1)\n",
      "Requirement already satisfied: websocket-client>=0.32.0 in /home/studio-lab-user/.conda/envs/jina/lib/python3.9/site-packages (from docker->jina->discoart) (1.3.3)\n",
      "Requirement already satisfied: idna<4,>=2.5 in /home/studio-lab-user/.conda/envs/jina/lib/python3.9/site-packages (from requests->docarray[common]>=0.13.30->discoart) (3.3)\n",
      "Requirement already satisfied: urllib3<1.27,>=1.21.1 in /home/studio-lab-user/.conda/envs/jina/lib/python3.9/site-packages (from requests->docarray[common]>=0.13.30->discoart) (1.26.10)\n",
      "Requirement already satisfied: certifi>=2017.4.17 in /home/studio-lab-user/.conda/envs/jina/lib/python3.9/site-packages (from requests->docarray[common]>=0.13.30->discoart) (2022.6.15)\n",
      "Requirement already satisfied: starlette==0.19.1 in /home/studio-lab-user/.conda/envs/jina/lib/python3.9/site-packages (from fastapi->docarray[common]>=0.13.30->discoart) (0.19.1)\n",
      "Requirement already satisfied: anyio<5,>=3.4.0 in /home/studio-lab-user/.conda/envs/jina/lib/python3.9/site-packages (from starlette==0.19.1->fastapi->docarray[common]>=0.13.30->discoart) (3.6.1)\n",
      "Requirement already satisfied: python-dateutil>=2.7 in /home/studio-lab-user/.conda/envs/jina/lib/python3.9/site-packages (from matplotlib->docarray[common]>=0.13.30->discoart) (2.8.2)\n",
      "Requirement already satisfied: cycler>=0.10 in /home/studio-lab-user/.conda/envs/jina/lib/python3.9/site-packages (from matplotlib->docarray[common]>=0.13.30->discoart) (0.11.0)\n",
      "Requirement already satisfied: fonttools>=4.22.0 in /home/studio-lab-user/.conda/envs/jina/lib/python3.9/site-packages (from matplotlib->docarray[common]>=0.13.30->discoart) (4.34.4)\n",
      "Requirement already satisfied: kiwisolver>=1.0.1 in /home/studio-lab-user/.conda/envs/jina/lib/python3.9/site-packages (from matplotlib->docarray[common]>=0.13.30->discoart) (1.4.3)\n",
      "Requirement already satisfied: h11>=0.8 in /home/studio-lab-user/.conda/envs/jina/lib/python3.9/site-packages (from uvicorn->docarray[common]>=0.13.30->discoart) (0.13.0)\n",
      "Requirement already satisfied: click>=7.0 in /home/studio-lab-user/.conda/envs/jina/lib/python3.9/site-packages (from uvicorn->docarray[common]>=0.13.30->discoart) (8.1.3)\n",
      "Requirement already satisfied: httptools>=0.4.0 in /home/studio-lab-user/.conda/envs/jina/lib/python3.9/site-packages (from uvicorn->docarray[common]>=0.13.30->discoart) (0.4.0)\n",
      "Requirement already satisfied: watchfiles>=0.13 in /home/studio-lab-user/.conda/envs/jina/lib/python3.9/site-packages (from uvicorn->docarray[common]>=0.13.30->discoart) (0.15.0)\n",
      "Requirement already satisfied: python-dotenv>=0.13 in /home/studio-lab-user/.conda/envs/jina/lib/python3.9/site-packages (from uvicorn->docarray[common]>=0.13.30->discoart) (0.20.0)\n",
      "Requirement already satisfied: pycparser in /home/studio-lab-user/.conda/envs/jina/lib/python3.9/site-packages (from cffi>=1.12->cryptography->jina->discoart) (2.21)\n",
      "Requirement already satisfied: sniffio>=1.1 in /home/studio-lab-user/.conda/envs/jina/lib/python3.9/site-packages (from anyio<5,>=3.4.0->starlette==0.19.1->fastapi->docarray[common]>=0.13.30->discoart) (1.2.0)\n"
     ]
    }
   ],
   "source": [
    "!pip install -U discoart\n",
    "\n",
    "from discoart import create"
   ]
  },
  {
   "cell_type": "markdown",
   "id": "9d2b046b",
   "metadata": {
    "pycharm": {
     "name": "#%% md\n"
    }
   },
   "source": [
    "\n",
    "---\n",
    "\n",
    "# Create artworks"
   ]
  },
  {
   "cell_type": "code",
   "execution_count": null,
   "id": "b08a0e0c",
   "metadata": {
    "collapsed": false,
    "jupyter": {
     "outputs_hidden": false
    },
    "pycharm": {
     "name": "#%%\n"
    }
   },
   "outputs": [
    {
     "name": "stderr",
     "output_type": "stream",
     "text": [
      "2022-07-13 03:12:11,035 - discoart - INFO - creating artwork...\n"
     ]
    },
    {
     "data": {
      "text/html": [
       "<pre style=\"white-space:pre;overflow-x:auto;line-height:normal;font-family:Menlo,'DejaVu Sans Mono',consolas,'Courier New',monospace\">n_batches=4: ▰▱▱▱\n",
       "</pre>\n"
      ],
      "text/plain": [
       "n_batches=4: ▰▱▱▱\n"
      ]
     },
     "metadata": {},
     "output_type": "display_data"
    },
    {
     "data": {
      "text/html": [
       "<pre style=\"white-space:pre;overflow-x:auto;line-height:normal;font-family:Menlo,'DejaVu Sans Mono',consolas,'Courier New',monospace\"><span style=\"font-style: italic\">          discoart-869e8fa9e433e5c454632fd83c0c10f7          </span>\n",
       "╭───────────────┬───────────────────────────────────────────╮\n",
       "│<span style=\"font-weight: bold\">      Argument </span>│<span style=\"font-weight: bold\"> Value                                     </span>│\n",
       "├───────────────┼───────────────────────────────────────────┤\n",
       "│ name_docarray │ discoart-869e8fa9e433e5c454632fd83c0c10f7 │\n",
       "│          seed │ <span style=\"color: #008080; text-decoration-color: #008080; font-weight: bold\">3147481142</span>                                │\n",
       "╰───────────────┴───────────────────────────────────────────╯\n",
       "<span style=\"color: #7f7f7f; text-decoration-color: #7f7f7f; font-style: italic\">                showing only non-default args                </span>\n",
       "</pre>\n"
      ],
      "text/plain": [
       "\u001b[3m          discoart-869e8fa9e433e5c454632fd83c0c10f7          \u001b[0m\n",
       "╭───────────────┬───────────────────────────────────────────╮\n",
       "│\u001b[1m \u001b[0m\u001b[1m     Argument\u001b[0m\u001b[1m \u001b[0m│\u001b[1m \u001b[0m\u001b[1mValue                                    \u001b[0m\u001b[1m \u001b[0m│\n",
       "├───────────────┼───────────────────────────────────────────┤\n",
       "│ name_docarray │ discoart-869e8fa9e433e5c454632fd83c0c10f7 │\n",
       "│          seed │ \u001b[1;36m3147481142\u001b[0m                                │\n",
       "╰───────────────┴───────────────────────────────────────────╯\n",
       "\u001b[2;3m                showing only non-default args                \u001b[0m\n"
      ]
     },
     "metadata": {},
     "output_type": "display_data"
    },
    {
     "data": {
      "application/vnd.jupyter.widget-view+json": {
       "model_id": "11150f788cb54abda9e5b5776cca3114",
       "version_major": 2,
       "version_minor": 0
      },
      "text/plain": [
       "Output()"
      ]
     },
     "metadata": {},
     "output_type": "display_data"
    },
    {
     "data": {
      "application/vnd.jupyter.widget-view+json": {
       "model_id": "4fec13a4595c48e9b2b0b91e9e1da666",
       "version_major": 2,
       "version_minor": 0
      },
      "text/plain": [
       "  0%|          | 0/250 [00:00<?, ?it/s]"
      ]
     },
     "metadata": {},
     "output_type": "display_data"
    },
    {
     "data": {
      "text/html": [
       "<pre style=\"white-space:pre;overflow-x:auto;line-height:normal;font-family:Menlo,'DejaVu Sans Mono',consolas,'Courier New',monospace\">\n",
       "</pre>\n"
      ],
      "text/plain": [
       "\n"
      ]
     },
     "metadata": {},
     "output_type": "display_data"
    },
    {
     "data": {
      "text/html": [
       "<pre style=\"white-space:pre;overflow-x:auto;line-height:normal;font-family:Menlo,'DejaVu Sans Mono',consolas,'Courier New',monospace\">\n",
       "</pre>\n"
      ],
      "text/plain": [
       "\n"
      ]
     },
     "metadata": {},
     "output_type": "display_data"
    },
    {
     "data": {
      "text/html": [
       "<pre style=\"white-space:pre;overflow-x:auto;line-height:normal;font-family:Menlo,'DejaVu Sans Mono',consolas,'Courier New',monospace\">\n",
       "</pre>\n"
      ],
      "text/plain": [
       "\n"
      ]
     },
     "metadata": {},
     "output_type": "display_data"
    }
   ],
   "source": [
    "da = create()"
   ]
  },
  {
   "cell_type": "markdown",
   "id": "56c979f6",
   "metadata": {
    "pycharm": {
     "name": "#%% md\n"
    }
   },
   "source": [
    "That's it. It is that simple."
   ]
  },
  {
   "cell_type": "markdown",
   "id": "415080c2",
   "metadata": {
    "pycharm": {
     "name": "#%% md\n"
    }
   },
   "source": [
    "# Specify parameters"
   ]
  },
  {
   "cell_type": "code",
   "execution_count": null,
   "id": "2ec9ba05",
   "metadata": {
    "collapsed": false,
    "jupyter": {
     "outputs_hidden": false
    },
    "pycharm": {
     "name": "#%%\n"
    }
   },
   "outputs": [],
   "source": [
    "from discoart import create\n",
    "\n",
    "da = create(text_prompts='A painting of sea cliffs in a tumultuous storm, Trending on ArtStation.',\n",
    "       init_image='https://d2vyhzeko0lke5.cloudfront.net/2f4f6dfa5a05e078469ebe57e77b72f0.png',\n",
    "       skip_steps=100)"
   ]
  },
  {
   "cell_type": "markdown",
   "id": "41335014",
   "metadata": {
    "pycharm": {
     "name": "#%% md\n"
    }
   },
   "source": [
    "## Check parameter cheatsheet\n",
    "\n",
    "But what parameters can be used in `create()`? just type `cheatsheet()` to lookup anytime:"
   ]
  },
  {
   "cell_type": "code",
   "execution_count": null,
   "id": "5e890ed9",
   "metadata": {
    "collapsed": false,
    "jupyter": {
     "outputs_hidden": false
    },
    "pycharm": {
     "name": "#%%\n"
    }
   },
   "outputs": [],
   "source": [
    "from discoart import cheatsheet\n",
    "\n",
    "cheatsheet()"
   ]
  },
  {
   "cell_type": "markdown",
   "id": "b563ac70",
   "metadata": {
    "pycharm": {
     "name": "#%% md\n"
    }
   },
   "source": [
    "da\n",
    "🎉 That's all you need to learn.\n",
    "\n",
    "Of course if you have some extra time, it would be helpful for you to learn the following API of DiscoArt.\n",
    "\n",
    "\n",
    "---\n",
    "\n",
    "## Visualize results\n",
    "\n",
    "`create()` returns `da`, a [DocumentArray](https://docarray.jina.ai/fundamentals/documentarray/)-type object. It contains the following information:\n",
    "- All arguments passed to `create()` function, including seed, text prompts and model parameters.\n",
    "- 4 generated image and its intermediate steps' images, where `4` is determined by `n_batches` and is the default value. \n",
    "\n",
    "This allows you to further post-process, analyze, export the results with powerful DocArray API.\n",
    "\n",
    "Images are stored as Data URI in `.uri`, to save the first image as a local file:\n"
   ]
  },
  {
   "cell_type": "code",
   "execution_count": null,
   "id": "07df4c8f",
   "metadata": {
    "collapsed": false,
    "jupyter": {
     "outputs_hidden": false
    },
    "pycharm": {
     "name": "#%%\n"
    }
   },
   "outputs": [],
   "source": [
    "da[0].save_uri_to_file('discoart-result.png')"
   ]
  },
  {
   "cell_type": "markdown",
   "id": "4bf3a1bd",
   "metadata": {
    "pycharm": {
     "name": "#%% md\n"
    }
   },
   "source": [
    "To save all final images:"
   ]
  },
  {
   "cell_type": "code",
   "execution_count": null,
   "id": "cf1408d4",
   "metadata": {
    "collapsed": false,
    "jupyter": {
     "outputs_hidden": false
    },
    "pycharm": {
     "name": "#%%\n"
    }
   },
   "outputs": [],
   "source": [
    "for idx, d in enumerate(da):\n",
    "    d.save_uri_to_file(f'discoart-result-{idx}.png')"
   ]
  },
  {
   "cell_type": "markdown",
   "id": "5a441c41",
   "metadata": {
    "pycharm": {
     "name": "#%% md\n"
    }
   },
   "source": [
    "You can also display all four final images in a grid:"
   ]
  },
  {
   "cell_type": "code",
   "execution_count": null,
   "id": "87d35fa4",
   "metadata": {
    "collapsed": false,
    "jupyter": {
     "outputs_hidden": false
    },
    "pycharm": {
     "name": "#%%\n"
    }
   },
   "outputs": [],
   "source": [
    "da.plot_image_sprites(skip_empty=True, show_index=True, keep_aspect_ratio=True)"
   ]
  },
  {
   "cell_type": "markdown",
   "id": "af442e65",
   "metadata": {
    "pycharm": {
     "name": "#%% md\n"
    }
   },
   "source": [
    "## Visualize intermediate steps\n",
    "\n",
    "You can also zoom into a run and check out intermediate steps:"
   ]
  },
  {
   "cell_type": "code",
   "execution_count": null,
   "id": "3f982ce9",
   "metadata": {
    "collapsed": false,
    "jupyter": {
     "outputs_hidden": false
    },
    "pycharm": {
     "name": "#%%\n"
    }
   },
   "outputs": [],
   "source": [
    "da[0].chunks.plot_image_sprites(skip_empty=True, show_index=True, keep_aspect_ratio=True)"
   ]
  },
  {
   "cell_type": "markdown",
   "id": "6eadd4ba",
   "metadata": {
    "pycharm": {
     "name": "#%% md\n"
    }
   },
   "source": [
    "You can `.display()` the chunks one by one, or save one via `.save_uri_to_file()`, or save all intermediate steps as a GIF:"
   ]
  },
  {
   "cell_type": "code",
   "execution_count": null,
   "id": "3b258283",
   "metadata": {
    "collapsed": false,
    "jupyter": {
     "outputs_hidden": false
    },
    "pycharm": {
     "name": "#%%\n"
    }
   },
   "outputs": [],
   "source": [
    "da[0].chunks.save_gif('lighthouse.gif', show_index=True, inline_display=True, size_ratio=0.5)"
   ]
  },
  {
   "cell_type": "markdown",
   "id": "8ea21add",
   "metadata": {
    "pycharm": {
     "name": "#%% md\n"
    }
   },
   "source": [
    "## Export configs\n",
    "\n",
    "You can review its parameters from `da[0].tags` or export it as an SVG image:"
   ]
  },
  {
   "cell_type": "code",
   "execution_count": null,
   "id": "58bfb2a9",
   "metadata": {
    "collapsed": false,
    "jupyter": {
     "outputs_hidden": false
    },
    "pycharm": {
     "name": "#%%\n"
    }
   },
   "outputs": [],
   "source": [
    "from discoart.config import save_config_svg\n",
    "\n",
    "save_config_svg(da, 'my.svg')"
   ]
  },
  {
   "cell_type": "markdown",
   "id": "1c90c4c7",
   "metadata": {
    "pycharm": {
     "name": "#%% md\n"
    }
   },
   "source": [
    "## Pull results anywhere anytime\n",
    "\n",
    "At anytime on any machine, you can pull the real-time results (including paramters, intermedidate diffusion steps, final results) with a session ID:\n",
    "\n",
    "> Please replace `discoart-3205998582` to your own when you run the above 2 cells!"
   ]
  },
  {
   "cell_type": "code",
   "execution_count": null,
   "id": "1b35c791",
   "metadata": {
    "collapsed": false,
    "jupyter": {
     "outputs_hidden": false
    },
    "pycharm": {
     "name": "#%%\n"
    }
   },
   "outputs": [],
   "source": [
    "from docarray import DocumentArray\n",
    "\n",
    "da = DocumentArray.pull('discoart-3205998582')"
   ]
  },
  {
   "cell_type": "markdown",
   "id": "d35b0cba",
   "metadata": {
    "pycharm": {
     "name": "#%% md\n"
    }
   },
   "source": [
    "## Reuse a Document as initial state\n",
    "\n",
    "Consider a Document as a self-contained data with config and image, one can use it as the initial state for the future run. Its `.tags` will be used as the initial parameters; `.uri` if presented will be used as the initial image."
   ]
  },
  {
   "cell_type": "code",
   "execution_count": null,
   "id": "d30c531e",
   "metadata": {
    "collapsed": false,
    "jupyter": {
     "outputs_hidden": false
    },
    "pycharm": {
     "name": "#%%\n"
    }
   },
   "outputs": [],
   "source": [
    "from discoart import create\n",
    "from docarray import DocumentArray\n",
    "\n",
    "da = DocumentArray.pull('discoart-3205998582')\n",
    "\n",
    "create(init_document=da[0],\n",
    "       cut_ic_pow=0.5,\n",
    "       tv_scale=600, \n",
    "       cut_overview='[12]*1000', \n",
    "       cut_innercut='[12]*1000', \n",
    "       use_secondary_model=False)"
   ]
  },
  {
   "cell_type": "markdown",
   "id": "57612585",
   "metadata": {},
   "source": [
    "You can `.display()` the chunks one by one, or save one via `.save_uri_to_file()`, or save all intermediate steps as a GIF:"
   ]
  },
  {
   "cell_type": "code",
   "execution_count": null,
   "id": "03c41055",
   "metadata": {},
   "outputs": [],
   "source": [
    "da[0].chunks.save_gif('lighthouse.gif', show_index=True, inline_display=True, size_ratio=0.5)"
   ]
  },
  {
   "cell_type": "markdown",
   "id": "bc3d160d",
   "metadata": {},
   "source": [
    "## Export configs\n",
    "\n",
    "You can review its parameters from `da[0].tags` or export it as an SVG image:"
   ]
  },
  {
   "cell_type": "code",
   "execution_count": null,
   "id": "376e7da6",
   "metadata": {},
   "outputs": [],
   "source": [
    "from discoart.config import save_config_svg\n",
    "\n",
    "save_config_svg(da, 'my.svg')"
   ]
  },
  {
   "cell_type": "markdown",
   "id": "5d677e95",
   "metadata": {},
   "source": [
    "## Pull results anywhere anytime\n",
    "\n",
    "At anytime on any machine, you can pull the real-time results (including paramters, intermedidate diffusion steps, final results) with a session ID:\n",
    "\n",
    "> Please replace `discoart-3205998582` to your own when you run the above 2 cells!"
   ]
  },
  {
   "cell_type": "code",
   "execution_count": null,
   "id": "e569788a",
   "metadata": {},
   "outputs": [],
   "source": [
    "from docarray import DocumentArray\n",
    "\n",
    "da = DocumentArray.pull('discoart-3205998582')"
   ]
  },
  {
   "cell_type": "markdown",
   "id": "7ee3653d",
   "metadata": {},
   "source": [
    "## Reuse a Document as initial state\n",
    "\n",
    "Consider a Document as a self-contained data with config and image, one can use it as the initial state for the future run. Its `.tags` will be used as the initial parameters; `.uri` if presented will be used as the initial image."
   ]
  },
  {
   "cell_type": "code",
   "execution_count": null,
   "id": "9977f99a",
   "metadata": {},
   "outputs": [],
   "source": [
    "from discoart import create\n",
    "from docarray import DocumentArray\n",
    "\n",
    "da = DocumentArray.pull('discoart-3205998582')\n",
    "\n",
    "create(init_document=da[0],\n",
    "       cut_ic_pow=0.5,\n",
    "       tv_scale=600, \n",
    "       cut_overview='[12]*1000', \n",
    "       cut_innercut='[12]*1000', \n",
    "       use_secondary_model=False)"
   ]
  }
 ],
 "metadata": {
  "kernelspec": {
   "display_name": "jina:Python",
   "language": "python",
   "name": "conda-env-jina-py"
  },
  "language_info": {
   "codemirror_mode": {
    "name": "ipython",
    "version": 3
   },
   "file_extension": ".py",
   "mimetype": "text/x-python",
   "name": "python",
   "nbconvert_exporter": "python",
   "pygments_lexer": "ipython3",
   "version": "3.9.13"
  }
 },
 "nbformat": 4,
 "nbformat_minor": 5
}
